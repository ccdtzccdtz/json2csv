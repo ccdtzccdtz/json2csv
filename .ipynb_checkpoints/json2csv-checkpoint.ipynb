{
 "cells": [
  {
   "cell_type": "code",
   "execution_count": 1,
   "metadata": {
    "collapsed": true
   },
   "outputs": [],
   "source": [
    "import json"
   ]
  },
  {
   "cell_type": "code",
   "execution_count": 37,
   "metadata": {
    "collapsed": true
   },
   "outputs": [],
   "source": [
    "def flat_dict(k,v):\n",
    "    global flatdict\n",
    "    if isinstance(v, dict):\n",
    "        for subk,subv in v.items():\n",
    "            flat_dict(str(k)+\"_\"+str(subk),subv)\n",
    "    elif isinstance(v, list):\n",
    "        count=0\n",
    "        for i in v:\n",
    "            flat_dict(str(k)+\"_\"+str(count),i)\n",
    "            count+=1\n",
    "            \n",
    "    else:\n",
    "\n",
    "        flatdict[str(k)]=str(v)\n",
    "    "
   ]
  },
  {
   "cell_type": "code",
   "execution_count": 8,
   "metadata": {
    "collapsed": false
   },
   "outputs": [],
   "source": [
    "data=\"\"\"{\n",
    "        \"node\":[\n",
    "            {\n",
    "                \"item_1\":\"value_11\",\n",
    "                \"item_2\":\"value_12\",\n",
    "                \"item_3\":\"value_13\",\n",
    "                \"item_4\":[\"sub_value_14\", \"sub_value_15\"],\n",
    "                \"item_5\":{\n",
    "                    \"sub_item_1\":\"sub_item_value_11\",\n",
    "                    \"sub_item_2\":[\"sub_item_value_12\", \"sub_item_value_13\"]\n",
    "                }\n",
    "            },\n",
    "            {\n",
    "                \"item_1\":\"value_21\",\n",
    "                \"item_2\":\"value_22\",\n",
    "                \"item_4\":[\"sub_value_24\", \"sub_value_25\"],\n",
    "                \"item_5\":{\n",
    "                    \"sub_item_1\":\"sub_item_value_21\",\n",
    "                    \"sub_item_2\":[\"sub_item_value_22\", \"sub_item_value_23\"]\n",
    "                }\n",
    "            }\n",
    "        ]\n",
    "    }\"\"\""
   ]
  },
  {
   "cell_type": "code",
   "execution_count": 36,
   "metadata": {
    "collapsed": false
   },
   "outputs": [],
   "source": [
    "json_dict=json.loads(data)\n"
   ]
  },
  {
   "cell_type": "code",
   "execution_count": 50,
   "metadata": {
    "collapsed": false
   },
   "outputs": [
    {
     "name": "stdout",
     "output_type": "stream",
     "text": [
      "node_item_2:value_12\n",
      "node_item_5_sub_item_2_1:sub_item_value_13\n",
      "node_item_3:value_13\n",
      "node_item_5_sub_item_1:sub_item_value_11\n",
      "node_item_4_1:sub_value_15\n",
      "node_item_4_0:sub_value_14\n",
      "node_item_1:value_11\n",
      "node_item_5_sub_item_2_0:sub_item_value_12\n",
      "node_item_2:value_22\n",
      "node_item_5_sub_item_2_1:sub_item_value_23\n",
      "node_item_5_sub_item_1:sub_item_value_21\n",
      "node_item_4_1:sub_value_25\n",
      "node_item_4_0:sub_value_24\n",
      "node_item_1:value_21\n",
      "node_item_5_sub_item_2_0:sub_item_value_22\n"
     ]
    }
   ],
   "source": [
    "dict_stack=[]\n",
    "root='node'\n",
    "outcsvdir=\"out.csv\"\n",
    "try:\n",
    "    json_dict_data = json_dict[root]\n",
    "except:\n",
    "    json_dict_data = json_dict\n",
    "json_dict_data=json_dict[root]\n",
    "\n",
    "for v in json_dict_data:\n",
    "    flatdict={}\n",
    "    flat_dict(root,v)\n",
    "    dict_stack.append(flatdict)\n",
    "\n",
    "outcsv=open(outcsvdir,\"w\")\n",
    "col=[]\n",
    "for k in dict_stack[0]:\n",
    "    outcsv.write(k+\",\")\n",
    "    col.append(k)\n",
    "outcsv.write(\"\\n\")\n",
    "\n",
    "for idict in dict_stack:\n",
    "    for c in col:\n",
    "        try:\n",
    "            outcsv.write(idict[c]+\",\")\n",
    "        except:\n",
    "            outcsv.write(\"NA\"+\",\")\n",
    "    outcsv.write(\"\\n\")"
   ]
  }
 ],
 "metadata": {
  "kernelspec": {
   "display_name": "Python 3",
   "language": "python",
   "name": "python3"
  },
  "language_info": {
   "codemirror_mode": {
    "name": "ipython",
    "version": 3
   },
   "file_extension": ".py",
   "mimetype": "text/x-python",
   "name": "python",
   "nbconvert_exporter": "python",
   "pygments_lexer": "ipython3",
   "version": "3.5.2"
  }
 },
 "nbformat": 4,
 "nbformat_minor": 0
}
